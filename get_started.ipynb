{
 "cells": [
  {
   "cell_type": "markdown",
   "id": "sophisticated-gamma",
   "metadata": {},
   "source": [
    "# INSTALL ANACONDA\n",
    "\n",
    "To install Anaconda, download the installer [here](https://www.anaconda.com/products/individual)  and follow the instructions."
   ]
  },
  {
   "cell_type": "markdown",
   "id": "drawn-techno",
   "metadata": {},
   "source": [
    "# CREATE CONDA ENVIRONEMENT\n",
    "\n",
    "Open a terminal, and type\n",
    "```bash\n",
    "conda create -n env_name python=3.9\n",
    "```\n",
    "\n",
    "In order to use this environment, you should activate it using\n",
    "```bash\n",
    "conda activate env_name\n",
    "```\n",
    "After activating, the environment name should appear on the left in the prompt line."
   ]
  },
  {
   "cell_type": "markdown",
   "id": "disciplinary-circuit",
   "metadata": {},
   "source": [
    "# INSTALL PYTHON PACKAGES (LIBRAIRIES) FOR SCIENTIFIC COMPUTING\n",
    "\n",
    "Use ```conda install -n env_name``` to install packages to your conda environment. Below is a list of popular packages for scientific computing.\n",
    "\n",
    "- [NumPy](https://numpy.org/) Scientific computing using arrays. Uses methods written in C and Fortran\n",
    "- [Scikit-learn](https://scikit-learn.org/) tools for machine learning. Uses NumPy arrays\n",
    "- [Matplotlib](https://matplotlib.org/) librairies for visualization\n",
    "\n",
    "To install these packages, type:\n",
    "\n",
    "```bash\n",
    "conda install -n env_name numpy scikit-learn matplotlib -y\n",
    "```"
   ]
  },
  {
   "cell_type": "markdown",
   "id": "working-start",
   "metadata": {},
   "source": [
    "# Example 1: 1-D Kernel Density Estimation using scikit-learn"
   ]
  },
  {
   "cell_type": "markdown",
   "id": "august-teens",
   "metadata": {},
   "source": [
    "### 1. Create Dataset\n",
    "\n",
    "Function used:\n",
    "- [numpy.random.normal](https://numpy.org/doc/stable/reference/random/generated/numpy.random.normal.html): random samples from a normal ditribution\n",
    "- [matplotlib.pyplot.hist](https://matplotlib.org/stable/api/_as_gen/matplotlib.pyplot.hist.html): plot histogram with matplotlib"
   ]
  },
  {
   "cell_type": "code",
   "execution_count": 74,
   "id": "noticed-skill",
   "metadata": {},
   "outputs": [
    {
     "name": "stdout",
     "output_type": "stream",
     "text": [
      "[[ 1.76405235]\n",
      " [ 0.40015721]\n",
      " [ 0.97873798]\n",
      " [ 2.2408932 ]\n",
      " [ 1.86755799]\n",
      " [-0.97727788]\n",
      " [ 0.95008842]\n",
      " [-0.15135721]\n",
      " [-0.10321885]\n",
      " [ 0.4105985 ]]\n"
     ]
    }
   ],
   "source": [
    "# import numpy pacakge with alias 'np'\n",
    "import numpy as np\n",
    "\n",
    "# set seed for reproducibility\n",
    "np.random.seed(0)\n",
    "\n",
    "# 1000 data points from\n",
    "# bimodal distribution (sum of two Gaussians)\n",
    "n = 1000\n",
    "mean1 = 0\n",
    "mean2 = 5\n",
    "sd1 = 1\n",
    "sd2 = 2\n",
    "\n",
    "samples1 = np.random.normal(mean1, sd1, int(0.3*n))\n",
    "samples2 = np.random.normal(mean2, sd2, int(0.7*n))\n",
    "samples = np.concatenate((samples1, samples2))\n",
    "\n",
    "# reshape array to a n x 1 matrix,\n",
    "# required for input to scikit-learn estimator\n",
    "samples = samples.reshape(n, 1)\n",
    "\n",
    "\n",
    "# display the first 10 elements of array 'samples'\n",
    "print(samples[:10])"
   ]
  },
  {
   "cell_type": "code",
   "execution_count": 75,
   "id": "absolute-dover",
   "metadata": {},
   "outputs": [
    {
     "data": {
      "image/png": "[encoded data removed]",
      "text/plain": [
       "<Figure size 432x288 with 1 Axes>"
      ]
     },
     "metadata": {
      "needs_background": "light"
     },
     "output_type": "display_data"
    }
   ],
   "source": [
    "# import matplotlib.pyplot, the plotting module of matplotlib\n",
    "# with alias 'plt'\n",
    "import matplotlib.pyplot as plt\n",
    "\n",
    "plt.hist(samples, bins=50, density=True)\n",
    "plt.xlabel('xlabel')\n",
    "plt.ylabel('Frequency')\n",
    "plt.show()"
   ]
  },
  {
   "cell_type": "markdown",
   "id": "wound-china",
   "metadata": {},
   "source": [
    "### 2. Kernel Density Estimation\n",
    "\n",
    "Functions/Class used:\n",
    "- [sklearn.neighbors.KernelDensity](https://scikit-learn.org/stable/modules/generated/sklearn.neighbors.KernelDensity.html#sklearn.neighbors.KernelDensity): kernel density estimator from scikit-learn\n",
    "- [np.linspace](https://numpy.org/doc/stable/reference/generated/numpy.linspace.html): evenly sample an interval"
   ]
  },
  {
   "cell_type": "code",
   "execution_count": 78,
   "id": "structured-temple",
   "metadata": {},
   "outputs": [],
   "source": [
    "# import function KernelDensity using a from ... import ... clause\n",
    "from sklearn.neighbors import KernelDensity\n",
    "\n",
    "# estimator (model)\n",
    "kde = KernelDensity(kernel='gaussian', bandwidth=.5)\n",
    "\n",
    "# fit the estimator to data 'samples'\n",
    "kde.fit(samples)\n",
    "\n",
    "# use the trained estimator to predict values of the PDF for data points 'xs'\n",
    "xs = np.linspace(samples.min(), samples.max(), 1000).reshape(1000, 1)\n",
    "log_dens = kde.score_samples(xs)"
   ]
  },
  {
   "cell_type": "code",
   "execution_count": 79,
   "id": "elementary-waste",
   "metadata": {},
   "outputs": [
    {
     "data": {
      "image/png": "[encoded data removed]",
      "text/plain": [
       "<Figure size 432x288 with 1 Axes>"
      ]
     },
     "metadata": {
      "needs_background": "light"
     },
     "output_type": "display_data"
    }
   ],
   "source": [
    "# plot estimated PDF on top of histogram\n",
    "plt.hist(samples, bins=50, density=True, label='samples')\n",
    "plt.plot(xs, np.exp(log_dens), '-r', label='estimated PDF')\n",
    "plt.xlabel('xlabel')\n",
    "plt.ylabel('Frequency')\n",
    "plt.legend()\n",
    "plt.show()"
   ]
  },
  {
   "cell_type": "code",
   "execution_count": null,
   "id": "quick-defense",
   "metadata": {},
   "outputs": [],
   "source": []
  }
 ],
 "metadata": {
  "kernelspec": {
   "display_name": "fred",
   "language": "python",
   "name": "fred"
  },
  "language_info": {
   "codemirror_mode": {
    "name": "ipython",
    "version": 3
   },
   "file_extension": ".py",
   "mimetype": "text/x-python",
   "name": "python",
   "nbconvert_exporter": "python",
   "pygments_lexer": "ipython3",
   "version": "3.9.2"
  }
 },
 "nbformat": 4,
 "nbformat_minor": 5
}
