{
 "cells": [
  {
   "cell_type": "markdown",
   "id": "sophisticated-gamma",
   "metadata": {},
   "source": [
    "# INSTALL ANACONDA\n",
    "\n",
    "To install Anaconda, download the bash installer [here](https://www.anaconda.com/products/individual)  and follow the instructions [there](https://docs.anaconda.com/anaconda/install/linux/).\n",
    "\n",
    "With the default values in the installer, this will install anaconda in the folder ```anaconda3``` in your home directory."
   ]
  },
  {
   "cell_type": "markdown",
   "id": "drawn-techno",
   "metadata": {},
   "source": [
    "# CREATE CONDA ENVIRONEMENT\n",
    "\n",
    "Open a terminal, and type\n",
    "```bash\n",
    "conda create -n env_name python=3.9\n",
    "```\n",
    "\n",
    "In order to use this environment, you should activate it using\n",
    "```bash\n",
    "conda activate env_name\n",
    "```\n",
    "After activating, the environment name should appear on the left in the command line."
   ]
  },
  {
   "cell_type": "markdown",
   "id": "disciplinary-circuit",
   "metadata": {},
   "source": [
    "# INSTALL PYTHON PACKAGES (LIBRAIRIES) FOR SCIENTIFIC COMPUTING\n",
    "\n",
    "Use ```conda install -n env_name``` to install packages to your conda environment. Below is a list of popular packages for scientific computing.\n",
    "\n",
    "- [NumPy](https://numpy.org/): Scientific computing using arrays. Uses methods written in C and Fortran\n",
    "- [Scikit-learn](https://scikit-learn.org/): tools for machine learning. Uses NumPy arrays\n",
    "- [Matplotlib](https://matplotlib.org/): librairies for visualization\n",
    "\n",
    "To install these packages, type:\n",
    "\n",
    "```bash\n",
    "conda install -n env_name numpy scikit-learn matplotlib -y\n",
    "```"
   ]
  },
  {
   "cell_type": "markdown",
   "id": "wrapped-arrival",
   "metadata": {},
   "source": [
    "# Examples\n",
    "\n",
    "1. 1-D Kernel Density Estimation\n",
    "2. Gaussian Mixture modelling"
   ]
  },
  {
   "cell_type": "markdown",
   "id": "working-start",
   "metadata": {},
   "source": [
    "## Example 1: 1-D Kernel Density Estimation"
   ]
  },
  {
   "cell_type": "markdown",
   "id": "august-teens",
   "metadata": {},
   "source": [
    "### 1. Create Dataset\n",
    "\n",
    "Function used:\n",
    "- [numpy.random.normal](https://numpy.org/doc/stable/reference/random/generated/numpy.random.normal.html): random samples from a normal ditribution\n",
    "- [matplotlib.pyplot.hist](https://matplotlib.org/stable/api/_as_gen/matplotlib.pyplot.hist.html): plot histogram with matplotlib"
   ]
  },
  {
   "cell_type": "code",
   "execution_count": 55,
   "id": "noticed-skill",
   "metadata": {},
   "outputs": [
    {
     "name": "stdout",
     "output_type": "stream",
     "text": [
      "[[1.76405235]\n",
      " [0.40015721]\n",
      " [0.97873798]\n",
      " [2.2408932 ]\n",
      " [1.86755799]]\n"
     ]
    }
   ],
   "source": [
    "# import numpy pacakge with alias 'np'\n",
    "import numpy as np\n",
    "\n",
    "def sample_bimodal(n, seed=0):\n",
    "    \"\"\"Return n samples from a bimodal distribution\n",
    "    (sum of 2 Gaussians).\n",
    "    \n",
    "    Args:\n",
    "        n (int): number of samples\n",
    "        seed (int): seed for random number generator (default is 0)\n",
    "        \n",
    "    Returns:\n",
    "        ndarray: array of samples of shape (n, 1)\n",
    "    \"\"\"\n",
    "    # set seed for reproducibility\n",
    "    np.random.seed(seed)\n",
    "\n",
    "    # 2 Gaussians\n",
    "    mean1 = 0\n",
    "    mean2 = 5\n",
    "    sd1 = 1\n",
    "    sd2 = 2\n",
    "    \n",
    "    # random sampling of 2 Gaussians\n",
    "    samples1 = np.random.normal(mean1, sd1, int(0.3*n))\n",
    "    samples2 = np.random.normal(mean2, sd2, int(0.7*n))\n",
    "    samples = np.concatenate((samples1, samples2))\n",
    "    \n",
    "    # reshape array to a n x 1 matrix,\n",
    "    # required for input to scikit-learn estimator\n",
    "    samples = samples.reshape(n, 1)\n",
    "    \n",
    "    return samples\n",
    "\n",
    "samples = sample_bimodal(1000)\n",
    "\n",
    "# display the first 5 elements of array 'samples'\n",
    "print(samples[:5])"
   ]
  },
  {
   "cell_type": "code",
   "execution_count": 5,
   "id": "absolute-dover",
   "metadata": {},
   "outputs": [
    {
     "data": {
      "image/png": "[encoded data removed]",
      "text/plain": [
       "<Figure size 432x288 with 1 Axes>"
      ]
     },
     "metadata": {
      "needs_background": "light"
     },
     "output_type": "display_data"
    }
   ],
   "source": [
    "# import matplotlib.pyplot, the plotting module of matplotlib\n",
    "# with alias 'plt'\n",
    "import matplotlib.pyplot as plt\n",
    "\n",
    "plt.hist(samples, bins=50, density=True)\n",
    "plt.xlabel('xlabel')\n",
    "plt.ylabel('Frequency')\n",
    "plt.show()"
   ]
  },
  {
   "cell_type": "markdown",
   "id": "wound-china",
   "metadata": {},
   "source": [
    "### 2. Kernel Density Estimation\n",
    "\n",
    "Functions/Class used:\n",
    "- [sklearn.neighbors.KernelDensity](https://scikit-learn.org/stable/modules/generated/sklearn.neighbors.KernelDensity.html#sklearn.neighbors.KernelDensity): kernel density estimator from scikit-learn\n",
    "- [np.linspace](https://numpy.org/doc/stable/reference/generated/numpy.linspace.html): evenly sample an interval"
   ]
  },
  {
   "cell_type": "code",
   "execution_count": 6,
   "id": "structured-temple",
   "metadata": {},
   "outputs": [],
   "source": [
    "# import function KernelDensity using a from ... import ... clause\n",
    "from sklearn.neighbors import KernelDensity\n",
    "\n",
    "# estimator (model)\n",
    "kde = KernelDensity(kernel='gaussian', bandwidth=.5)\n",
    "\n",
    "# fit the estimator to data 'samples'\n",
    "kde.fit(samples)\n",
    "\n",
    "# use the trained estimator to predict values of the PDF for data points 'xs'\n",
    "xs = np.linspace(samples.min(), samples.max(), 1000).reshape(1000, 1)\n",
    "log_dens = kde.score_samples(xs)"
   ]
  },
  {
   "cell_type": "code",
   "execution_count": 79,
   "id": "elementary-waste",
   "metadata": {},
   "outputs": [
    {
     "data": {
      "image/png": "[encoded data removed]",
      "text/plain": [
       "<Figure size 432x288 with 1 Axes>"
      ]
     },
     "metadata": {
      "needs_background": "light"
     },
     "output_type": "display_data"
    }
   ],
   "source": [
    "# plot estimated PDF on top of histogram\n",
    "plt.hist(samples, bins=50, density=True, label='samples')\n",
    "plt.plot(xs, np.exp(log_dens), '-r', label='estimated PDF')\n",
    "plt.xlabel('xlabel')\n",
    "plt.ylabel('Frequency')\n",
    "plt.legend()\n",
    "plt.show()"
   ]
  },
  {
   "cell_type": "markdown",
   "id": "modular-europe",
   "metadata": {},
   "source": [
    "## Example 2: Gaussian Mixture modelling"
   ]
  },
  {
   "cell_type": "markdown",
   "id": "decimal-adoption",
   "metadata": {},
   "source": [
    "Function/class used:\n",
    "- [GaussianMixture](https://scikit-learn.org/stable/modules/generated/sklearn.mixture.GaussianMixture.html): sklearn estimator for Gaussian Mixture modelling\n",
    "- [numpy.ndarray.ravel](https://numpy.org/doc/stable/reference/generated/numpy.ndarray.ravel.html): flatten array\n",
    "- [numpy.sum](https://numpy.org/doc/stable/reference/generated/numpy.sum.html): sum elements of array-like objects\n",
    "- np.sqrt, np.exp"
   ]
  },
  {
   "cell_type": "code",
   "execution_count": 58,
   "id": "comic-conclusion",
   "metadata": {},
   "outputs": [
    {
     "name": "stdout",
     "output_type": "stream",
     "text": [
      "weights:  [0.67595135 0.32404865]\n",
      "means:  [4.97405082 0.12038735]\n",
      "covs:  [1.85970181 1.06359069]\n"
     ]
    }
   ],
   "source": [
    "from sklearn.mixture import GaussianMixture\n",
    "\n",
    "# create 1000 samples using func sample_bimodal() from Example 1\n",
    "samples = sample_bimodal(1000)\n",
    "\n",
    "# create estimator with 2 gaussians\n",
    "gm = GaussianMixture(n_components=2)\n",
    "\n",
    "# fit estimator to samples\n",
    "gm.fit(samples)\n",
    "\n",
    "weights = gm.weights_\n",
    "means = gm.means_.ravel()\n",
    "covs = gm.covariances_.ravel()\n",
    "sds = np.sqrt(covs)\n",
    "\n",
    "print(\"weights: \", weights)\n",
    "print(\"means: \", means)\n",
    "print(\"covs: \", sds)"
   ]
  },
  {
   "cell_type": "code",
   "execution_count": 59,
   "id": "certain-partnership",
   "metadata": {},
   "outputs": [
    {
     "name": "stdout",
     "output_type": "stream",
     "text": [
      "[0.0210134  0.0213691  0.02172923 0.02209381 0.02246287 0.02283642\n",
      " 0.02321447 0.02359706 0.0239842  0.02437589]\n"
     ]
    }
   ],
   "source": [
    "def gaussian(x, w, m, sd):\n",
    "    return w / np.sqrt(2 * np.pi * sd**2) * np.exp(-(x - m)**2 / (2 * sd)**2)\n",
    "\n",
    "def gm_pdf(x, weights, means, sds):\n",
    "    \"\"\"Returns a list with gaussians evaluated at 'x'\n",
    "    \n",
    "    Args:\n",
    "        x (ndarray): values\n",
    "        weights (ndarray): gaussians weights (amplitudes)\n",
    "        means (ndarray): gaussians means\n",
    "        sds (ndarray): gaussian standard deviations\n",
    "        \n",
    "    Returns:\n",
    "        list of ndarray: of length len(weights)\n",
    "    \"\"\"\n",
    "    y = []\n",
    "    y.append(gaussian(x, weights[0], means[0], sds[0]))\n",
    "    for i in range(1, len(weights)):\n",
    "        y.append(gaussian(x, weights[i], means[i], sds[i]))\n",
    "    return y\n",
    "\n",
    "xs = np.linspace(samples.min(), samples.max(), 1000)\n",
    "dens = gm_pdf(xs, weights, means, sds)\n",
    "dens_sum = np.sum(dens, axis=0)\n",
    "\n",
    "print(dens_sum[:10])"
   ]
  },
  {
   "cell_type": "code",
   "execution_count": 60,
   "id": "strong-egyptian",
   "metadata": {},
   "outputs": [
    {
     "data": {
      "image/png": "[encoded data removed]",
      "text/plain": [
       "<Figure size 432x288 with 1 Axes>"
      ]
     },
     "metadata": {
      "needs_background": "light"
     },
     "output_type": "display_data"
    }
   ],
   "source": [
    "# plot results\n",
    "plt.hist(samples, bins=50, density=True, label='samples')\n",
    "plt.plot(xs, dens_sum, '-r', label='estimated PDF', linewidth=2.)\n",
    "for g in dens:\n",
    "    plt.plot(xs, g, '--', color='lime', linewidth=2.)\n",
    "plt.xlabel('xlabel')\n",
    "plt.ylabel('Frequency')\n",
    "plt.legend()\n",
    "plt.show()"
   ]
  },
  {
   "cell_type": "code",
   "execution_count": null,
   "id": "wound-double",
   "metadata": {},
   "outputs": [],
   "source": []
  }
 ],
 "metadata": {
  "kernelspec": {
   "display_name": "fred",
   "language": "python",
   "name": "fred"
  },
  "language_info": {
   "codemirror_mode": {
    "name": "ipython",
    "version": 3
   },
   "file_extension": ".py",
   "mimetype": "text/x-python",
   "name": "python",
   "nbconvert_exporter": "python",
   "pygments_lexer": "ipython3",
   "version": "3.9.2"
  }
 },
 "nbformat": 4,
 "nbformat_minor": 5
}
